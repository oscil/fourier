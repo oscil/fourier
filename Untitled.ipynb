{
 "cells": [
  {
   "cell_type": "code",
   "execution_count": 1,
   "metadata": {},
   "outputs": [],
   "source": [
    "import itertools\n",
    "import numpy as np"
   ]
  },
  {
   "cell_type": "code",
   "execution_count": 7,
   "metadata": {},
   "outputs": [
    {
     "name": "stdout",
     "output_type": "stream",
     "text": [
      "('h', 'e')\n",
      "('h', 'R')\n",
      "('h', 'a')\n",
      "('e', 'R')\n",
      "('e', 'a')\n",
      "('R', 'a')\n"
     ]
    }
   ],
   "source": [
    "for v in itertools.combinations(['h','e','R', 'a'], 2):\n",
    "    print(v)"
   ]
  },
  {
   "cell_type": "code",
   "execution_count": 6,
   "metadata": {},
   "outputs": [
    {
     "name": "stdout",
     "output_type": "stream",
     "text": [
      "('h', 'e', 'R', 'd')\n",
      "('h', 'e', 'R', 'H')\n",
      "('h', 'e', 'd', 'H')\n",
      "('h', 'R', 'd', 'H')\n",
      "('e', 'R', 'd', 'H')\n"
     ]
    }
   ],
   "source": [
    "for v in itertools.combinations(['h','e','R', 'd', 'H'], 4):\n",
    "    print(v)"
   ]
  },
  {
   "cell_type": "code",
   "execution_count": 9,
   "metadata": {},
   "outputs": [
    {
     "name": "stdout",
     "output_type": "stream",
     "text": [
      "('d', 'h', 'e')\n",
      "('d', 'h', 'R')\n",
      "('d', 'h', 'H')\n",
      "('d', 'e', 'R')\n",
      "('d', 'e', 'H')\n",
      "('d', 'R', 'H')\n",
      "('h', 'e', 'R')\n",
      "('h', 'e', 'H')\n",
      "('h', 'R', 'H')\n",
      "('e', 'R', 'H')\n"
     ]
    }
   ],
   "source": [
    "for v in itertools.combinations(['d','h','e','R', 'H'], 3):\n",
    "    print(v)"
   ]
  },
  {
   "cell_type": "code",
   "execution_count": 18,
   "metadata": {},
   "outputs": [],
   "source": [
    "def calc_d(h,H,R):\n",
    "    a = np.sqrt(2*R*h + h**2)\n",
    "    b = np.sqrt(2*R*H + H**2)\n",
    "    d = a + b\n",
    "    e = 90 - 180.0*np.arctan2(R,a)/np.pi\n",
    "    return {'a':a, 'b':b, 'd': d, 'e':e, 'h':h, 'H':H, 'R':R}"
   ]
  },
  {
   "cell_type": "code",
   "execution_count": 19,
   "metadata": {},
   "outputs": [],
   "source": [
    "def calc_H(h,d,R):\n",
    "    a = np.sqrt(2*R*h + h**2)\n",
    "    b = d - a\n",
    "    H = -R + np.sqrt(R**2 + b**2)\n",
    "    e = 90 - 180.0*np.arctan2(R,a)/np.pi\n",
    "    return {'a':a, 'b':b, 'd': d, 'e':e, 'h':h, 'H':H, 'R':R}"
   ]
  },
  {
   "cell_type": "code",
   "execution_count": 20,
   "metadata": {},
   "outputs": [],
   "source": [
    "def calc_h(H,d,R):\n",
    "    b = np.sqrt(2*R*H + H**2)\n",
    "    a = d - b\n",
    "    h = -R + np.sqrt(R**2 + a**2)\n",
    "    e = 90 - 180.0*np.arctan2(R,a)/np.pi\n",
    "    return {'a':a, 'b':b, 'd': d, 'e':e, 'h':h, 'H':H, 'R':R}"
   ]
  },
  {
   "cell_type": "code",
   "execution_count": 46,
   "metadata": {},
   "outputs": [],
   "source": [
    "def calc_R(H,h,d):\n",
    "    t = np.sqrt( 4*(d**2)*(H**2) - 4*(H-h)*((H**2)*h + H*d**2 - H*h**2) )\n",
    "    b = (2*d*H - t)/(2*(H-h))\n",
    "    a = d - b\n",
    "    R = (a**2 - h**2)/(2*h)\n",
    "    e = 90 - 180.0*np.arctan2(R,a)/np.pi\n",
    "    return {'a':a, 'b':b, 'd': d, 'e':e, 'h':h, 'H':H, 'R':R}"
   ]
  },
  {
   "cell_type": "code",
   "execution_count": 67,
   "metadata": {},
   "outputs": [
    {
     "data": {
      "text/plain": [
       "{'a': 25240.889445500925,\n",
       " 'b': 799749.9609252881,\n",
       " 'd': 824990.8503707891,\n",
       " 'e': 0.22699558465954794,\n",
       " 'h': 50,\n",
       " 'H': 50000,\n",
       " 'R': 6371000}"
      ]
     },
     "execution_count": 67,
     "metadata": {},
     "output_type": "execute_result"
    }
   ],
   "source": [
    "h = 50\n",
    "H = 50000\n",
    "R = 6371000\n",
    "# R = 8500000\n",
    "r = calc_d(h,H,R)\n",
    "r"
   ]
  },
  {
   "cell_type": "code",
   "execution_count": 68,
   "metadata": {},
   "outputs": [
    {
     "data": {
      "text/plain": [
       "{'a': 25240.889445500925,\n",
       " 'b': 799749.9609252881,\n",
       " 'd': 824990.8503707891,\n",
       " 'e': 0.22699558465954794,\n",
       " 'h': 50,\n",
       " 'H': 50000.0,\n",
       " 'R': 6371000}"
      ]
     },
     "execution_count": 68,
     "metadata": {},
     "output_type": "execute_result"
    }
   ],
   "source": [
    "calc_H(r['h'], r['d'], r['R'])"
   ]
  },
  {
   "cell_type": "code",
   "execution_count": 69,
   "metadata": {},
   "outputs": [
    {
     "data": {
      "text/plain": [
       "{'a': 25240.889445500914,\n",
       " 'b': 799749.9609252881,\n",
       " 'd': 824990.8503707891,\n",
       " 'e': 0.22699558465954794,\n",
       " 'h': 50.0,\n",
       " 'H': 50000,\n",
       " 'R': 6371000}"
      ]
     },
     "execution_count": 69,
     "metadata": {},
     "output_type": "execute_result"
    }
   ],
   "source": [
    "calc_h(r['H'], r['d'], r['R'])"
   ]
  },
  {
   "cell_type": "code",
   "execution_count": 70,
   "metadata": {},
   "outputs": [
    {
     "data": {
      "text/plain": [
       "{'a': 25240.889445501147,\n",
       " 'b': 799749.9609252879,\n",
       " 'd': 824990.8503707891,\n",
       " 'e': 0.22699558465954794,\n",
       " 'h': 50,\n",
       " 'H': 50000,\n",
       " 'R': 6371000.000000112}"
      ]
     },
     "execution_count": 70,
     "metadata": {},
     "output_type": "execute_result"
    }
   ],
   "source": [
    "calc_R(r['H'], r['h'], r['d'])"
   ]
  },
  {
   "cell_type": "code",
   "execution_count": null,
   "metadata": {},
   "outputs": [],
   "source": []
  },
  {
   "cell_type": "code",
   "execution_count": null,
   "metadata": {},
   "outputs": [],
   "source": []
  },
  {
   "cell_type": "code",
   "execution_count": null,
   "metadata": {},
   "outputs": [],
   "source": []
  }
 ],
 "metadata": {
  "kernelspec": {
   "display_name": "Python 3",
   "language": "python",
   "name": "python3"
  },
  "language_info": {
   "codemirror_mode": {
    "name": "ipython",
    "version": 3
   },
   "file_extension": ".py",
   "mimetype": "text/x-python",
   "name": "python",
   "nbconvert_exporter": "python",
   "pygments_lexer": "ipython3",
   "version": "3.8.3"
  }
 },
 "nbformat": 4,
 "nbformat_minor": 4
}
